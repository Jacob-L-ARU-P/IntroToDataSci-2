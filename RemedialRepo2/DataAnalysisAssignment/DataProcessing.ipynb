{
 "cells": [
  {
   "cell_type": "code",
   "execution_count": null,
   "metadata": {},
   "outputs": [],
   "source": [
    "# Load Life Expectancy @ Birth data\n",
    "#data_led = pd.read_csv('LifeDataNarrow.csv')\n",
    "#data_led.info()"
   ]
  },
  {
   "cell_type": "code",
   "execution_count": null,
   "metadata": {},
   "outputs": [],
   "source": [
    "# \n",
    "#data_led[:10]"
   ]
  },
  {
   "cell_type": "code",
   "execution_count": 4,
   "metadata": {},
   "outputs": [
    {
     "name": "stdout",
     "output_type": "stream",
     "text": [
      "Hello World\n"
     ]
    }
   ],
   "source": [
    "# NOTEBOOK START\n",
    "# Check Environment\n",
    "print(\"Hello World\")"
   ]
  },
  {
   "cell_type": "code",
   "execution_count": 5,
   "metadata": {},
   "outputs": [
    {
     "name": "stdout",
     "output_type": "stream",
     "text": [
      "modules loaded\n"
     ]
    }
   ],
   "source": [
    "# Load Modules\n",
    "import pandas as pd\n",
    "import seaborn as sns\n",
    "\n",
    "print(\"modules loaded\")"
   ]
  },
  {
   "cell_type": "code",
   "execution_count": 6,
   "metadata": {},
   "outputs": [
    {
     "name": "stdout",
     "output_type": "stream",
     "text": [
      "<class 'pandas.core.frame.DataFrame'>\n",
      "RangeIndex: 374 entries, 0 to 373\n",
      "Data columns (total 27 columns):\n",
      " #   Column   Non-Null Count  Dtype \n",
      "---  ------   --------------  ----- \n",
      " 0   LA name  374 non-null    object\n",
      " 1   LA code  374 non-null    object\n",
      " 2   1997     374 non-null    int64 \n",
      " 3   1998     374 non-null    int64 \n",
      " 4   1999     374 non-null    int64 \n",
      " 5   2000     374 non-null    int64 \n",
      " 6   2001     374 non-null    int64 \n",
      " 7   2002     374 non-null    int64 \n",
      " 8   2003     374 non-null    int64 \n",
      " 9   2004     374 non-null    int64 \n",
      " 10  2005     374 non-null    int64 \n",
      " 11  2006     374 non-null    int64 \n",
      " 12  2007     374 non-null    int64 \n",
      " 13  2008     374 non-null    int64 \n",
      " 14  2009     374 non-null    int64 \n",
      " 15  2010     374 non-null    int64 \n",
      " 16  2011     374 non-null    int64 \n",
      " 17  2012     374 non-null    int64 \n",
      " 18  2013     374 non-null    int64 \n",
      " 19  2014     374 non-null    int64 \n",
      " 20  2015     374 non-null    int64 \n",
      " 21  2016     374 non-null    int64 \n",
      " 22  2017     374 non-null    int64 \n",
      " 23  2018     374 non-null    int64 \n",
      " 24  2019     374 non-null    int64 \n",
      " 25  2020     374 non-null    int64 \n",
      " 26  2021     374 non-null    int64 \n",
      "dtypes: int64(25), object(2)\n",
      "memory usage: 79.0+ KB\n"
     ]
    }
   ],
   "source": [
    "# Load 'Gross Domestic Household Income' Dataset\n",
    "data_gdhi = pd.read_csv('GDHI_Data_A.csv')\n",
    "# Write high-level overview to check for incorrect/unexpected datatypes (i.e. integers being loaded in as objects)\n",
    "data_gdhi.info()"
   ]
  },
  {
   "cell_type": "code",
   "execution_count": 7,
   "metadata": {},
   "outputs": [
    {
     "data": {
      "text/html": [
       "<div>\n",
       "<style scoped>\n",
       "    .dataframe tbody tr th:only-of-type {\n",
       "        vertical-align: middle;\n",
       "    }\n",
       "\n",
       "    .dataframe tbody tr th {\n",
       "        vertical-align: top;\n",
       "    }\n",
       "\n",
       "    .dataframe thead th {\n",
       "        text-align: right;\n",
       "    }\n",
       "</style>\n",
       "<table border=\"1\" class=\"dataframe\">\n",
       "  <thead>\n",
       "    <tr style=\"text-align: right;\">\n",
       "      <th></th>\n",
       "      <th>LA name</th>\n",
       "      <th>LA code</th>\n",
       "      <th>1997</th>\n",
       "      <th>1998</th>\n",
       "      <th>1999</th>\n",
       "      <th>2000</th>\n",
       "      <th>2001</th>\n",
       "      <th>2002</th>\n",
       "      <th>2003</th>\n",
       "      <th>2004</th>\n",
       "      <th>...</th>\n",
       "      <th>2012</th>\n",
       "      <th>2013</th>\n",
       "      <th>2014</th>\n",
       "      <th>2015</th>\n",
       "      <th>2016</th>\n",
       "      <th>2017</th>\n",
       "      <th>2018</th>\n",
       "      <th>2019</th>\n",
       "      <th>2020</th>\n",
       "      <th>2021</th>\n",
       "    </tr>\n",
       "  </thead>\n",
       "  <tbody>\n",
       "    <tr>\n",
       "      <th>0</th>\n",
       "      <td>E06000001</td>\n",
       "      <td>Hartlepool</td>\n",
       "      <td>8297</td>\n",
       "      <td>8323</td>\n",
       "      <td>8810</td>\n",
       "      <td>9123</td>\n",
       "      <td>9561</td>\n",
       "      <td>9900</td>\n",
       "      <td>10141</td>\n",
       "      <td>10481</td>\n",
       "      <td>...</td>\n",
       "      <td>13727</td>\n",
       "      <td>13860</td>\n",
       "      <td>14285</td>\n",
       "      <td>14680</td>\n",
       "      <td>14887</td>\n",
       "      <td>15154</td>\n",
       "      <td>15870</td>\n",
       "      <td>15912</td>\n",
       "      <td>16153</td>\n",
       "      <td>16934</td>\n",
       "    </tr>\n",
       "    <tr>\n",
       "      <th>1</th>\n",
       "      <td>E06000004</td>\n",
       "      <td>Stockton-on-Tees</td>\n",
       "      <td>9526</td>\n",
       "      <td>9379</td>\n",
       "      <td>9839</td>\n",
       "      <td>10238</td>\n",
       "      <td>10689</td>\n",
       "      <td>10966</td>\n",
       "      <td>11297</td>\n",
       "      <td>11925</td>\n",
       "      <td>...</td>\n",
       "      <td>14682</td>\n",
       "      <td>14813</td>\n",
       "      <td>15286</td>\n",
       "      <td>15656</td>\n",
       "      <td>15824</td>\n",
       "      <td>16180</td>\n",
       "      <td>16399</td>\n",
       "      <td>17235</td>\n",
       "      <td>17382</td>\n",
       "      <td>17935</td>\n",
       "    </tr>\n",
       "    <tr>\n",
       "      <th>2</th>\n",
       "      <td>E06000002</td>\n",
       "      <td>Middlesbrough</td>\n",
       "      <td>8690</td>\n",
       "      <td>8337</td>\n",
       "      <td>8791</td>\n",
       "      <td>9234</td>\n",
       "      <td>9699</td>\n",
       "      <td>9750</td>\n",
       "      <td>9982</td>\n",
       "      <td>10528</td>\n",
       "      <td>...</td>\n",
       "      <td>13266</td>\n",
       "      <td>13547</td>\n",
       "      <td>14115</td>\n",
       "      <td>14494</td>\n",
       "      <td>14497</td>\n",
       "      <td>14747</td>\n",
       "      <td>15318</td>\n",
       "      <td>15783</td>\n",
       "      <td>16005</td>\n",
       "      <td>16222</td>\n",
       "    </tr>\n",
       "    <tr>\n",
       "      <th>3</th>\n",
       "      <td>E06000003</td>\n",
       "      <td>Redcar and Cleveland</td>\n",
       "      <td>8926</td>\n",
       "      <td>8593</td>\n",
       "      <td>9090</td>\n",
       "      <td>9578</td>\n",
       "      <td>10071</td>\n",
       "      <td>10118</td>\n",
       "      <td>10395</td>\n",
       "      <td>10761</td>\n",
       "      <td>...</td>\n",
       "      <td>14010</td>\n",
       "      <td>14256</td>\n",
       "      <td>14812</td>\n",
       "      <td>15222</td>\n",
       "      <td>15329</td>\n",
       "      <td>15619</td>\n",
       "      <td>16111</td>\n",
       "      <td>16501</td>\n",
       "      <td>16549</td>\n",
       "      <td>17128</td>\n",
       "    </tr>\n",
       "    <tr>\n",
       "      <th>4</th>\n",
       "      <td>E06000005</td>\n",
       "      <td>Darlington</td>\n",
       "      <td>9448</td>\n",
       "      <td>9316</td>\n",
       "      <td>9510</td>\n",
       "      <td>10260</td>\n",
       "      <td>11104</td>\n",
       "      <td>11113</td>\n",
       "      <td>11450</td>\n",
       "      <td>11794</td>\n",
       "      <td>...</td>\n",
       "      <td>13950</td>\n",
       "      <td>14442</td>\n",
       "      <td>14682</td>\n",
       "      <td>15311</td>\n",
       "      <td>15881</td>\n",
       "      <td>16609</td>\n",
       "      <td>16910</td>\n",
       "      <td>17392</td>\n",
       "      <td>18004</td>\n",
       "      <td>18376</td>\n",
       "    </tr>\n",
       "    <tr>\n",
       "      <th>5</th>\n",
       "      <td>E06000047</td>\n",
       "      <td>County Durham</td>\n",
       "      <td>9068</td>\n",
       "      <td>9218</td>\n",
       "      <td>9595</td>\n",
       "      <td>10035</td>\n",
       "      <td>10449</td>\n",
       "      <td>10583</td>\n",
       "      <td>10832</td>\n",
       "      <td>11400</td>\n",
       "      <td>...</td>\n",
       "      <td>13773</td>\n",
       "      <td>14142</td>\n",
       "      <td>14554</td>\n",
       "      <td>15099</td>\n",
       "      <td>15173</td>\n",
       "      <td>15484</td>\n",
       "      <td>15903</td>\n",
       "      <td>16350</td>\n",
       "      <td>16362</td>\n",
       "      <td>17228</td>\n",
       "    </tr>\n",
       "    <tr>\n",
       "      <th>6</th>\n",
       "      <td>E06000006</td>\n",
       "      <td>Halton</td>\n",
       "      <td>8646</td>\n",
       "      <td>8832</td>\n",
       "      <td>9355</td>\n",
       "      <td>10093</td>\n",
       "      <td>10596</td>\n",
       "      <td>10828</td>\n",
       "      <td>11198</td>\n",
       "      <td>11601</td>\n",
       "      <td>...</td>\n",
       "      <td>14187</td>\n",
       "      <td>14642</td>\n",
       "      <td>14908</td>\n",
       "      <td>15604</td>\n",
       "      <td>15928</td>\n",
       "      <td>16501</td>\n",
       "      <td>17220</td>\n",
       "      <td>17493</td>\n",
       "      <td>17759</td>\n",
       "      <td>18216</td>\n",
       "    </tr>\n",
       "    <tr>\n",
       "      <th>7</th>\n",
       "      <td>E06000057</td>\n",
       "      <td>Northumberland</td>\n",
       "      <td>10076</td>\n",
       "      <td>10160</td>\n",
       "      <td>10678</td>\n",
       "      <td>11290</td>\n",
       "      <td>11752</td>\n",
       "      <td>11932</td>\n",
       "      <td>12451</td>\n",
       "      <td>12899</td>\n",
       "      <td>...</td>\n",
       "      <td>16597</td>\n",
       "      <td>17114</td>\n",
       "      <td>17436</td>\n",
       "      <td>18098</td>\n",
       "      <td>18393</td>\n",
       "      <td>18778</td>\n",
       "      <td>19191</td>\n",
       "      <td>19721</td>\n",
       "      <td>19586</td>\n",
       "      <td>20380</td>\n",
       "    </tr>\n",
       "    <tr>\n",
       "      <th>8</th>\n",
       "      <td>E06000007</td>\n",
       "      <td>Warrington</td>\n",
       "      <td>10170</td>\n",
       "      <td>10359</td>\n",
       "      <td>10866</td>\n",
       "      <td>11688</td>\n",
       "      <td>12251</td>\n",
       "      <td>12438</td>\n",
       "      <td>12817</td>\n",
       "      <td>13585</td>\n",
       "      <td>...</td>\n",
       "      <td>16564</td>\n",
       "      <td>16830</td>\n",
       "      <td>17424</td>\n",
       "      <td>18744</td>\n",
       "      <td>18578</td>\n",
       "      <td>19057</td>\n",
       "      <td>19927</td>\n",
       "      <td>20699</td>\n",
       "      <td>20633</td>\n",
       "      <td>20952</td>\n",
       "    </tr>\n",
       "    <tr>\n",
       "      <th>9</th>\n",
       "      <td>E08000021</td>\n",
       "      <td>Newcastle upon Tyne</td>\n",
       "      <td>9457</td>\n",
       "      <td>9741</td>\n",
       "      <td>9894</td>\n",
       "      <td>10515</td>\n",
       "      <td>11017</td>\n",
       "      <td>11264</td>\n",
       "      <td>11624</td>\n",
       "      <td>12145</td>\n",
       "      <td>...</td>\n",
       "      <td>14096</td>\n",
       "      <td>14340</td>\n",
       "      <td>14679</td>\n",
       "      <td>15303</td>\n",
       "      <td>15277</td>\n",
       "      <td>15411</td>\n",
       "      <td>15848</td>\n",
       "      <td>16572</td>\n",
       "      <td>16286</td>\n",
       "      <td>17431</td>\n",
       "    </tr>\n",
       "  </tbody>\n",
       "</table>\n",
       "<p>10 rows × 27 columns</p>\n",
       "</div>"
      ],
      "text/plain": [
       "     LA name               LA code   1997   1998   1999   2000   2001   2002  \\\n",
       "0  E06000001            Hartlepool   8297   8323   8810   9123   9561   9900   \n",
       "1  E06000004      Stockton-on-Tees   9526   9379   9839  10238  10689  10966   \n",
       "2  E06000002         Middlesbrough   8690   8337   8791   9234   9699   9750   \n",
       "3  E06000003  Redcar and Cleveland   8926   8593   9090   9578  10071  10118   \n",
       "4  E06000005            Darlington   9448   9316   9510  10260  11104  11113   \n",
       "5  E06000047         County Durham   9068   9218   9595  10035  10449  10583   \n",
       "6  E06000006                Halton   8646   8832   9355  10093  10596  10828   \n",
       "7  E06000057        Northumberland  10076  10160  10678  11290  11752  11932   \n",
       "8  E06000007            Warrington  10170  10359  10866  11688  12251  12438   \n",
       "9  E08000021   Newcastle upon Tyne   9457   9741   9894  10515  11017  11264   \n",
       "\n",
       "    2003   2004  ...   2012   2013   2014   2015   2016   2017   2018   2019  \\\n",
       "0  10141  10481  ...  13727  13860  14285  14680  14887  15154  15870  15912   \n",
       "1  11297  11925  ...  14682  14813  15286  15656  15824  16180  16399  17235   \n",
       "2   9982  10528  ...  13266  13547  14115  14494  14497  14747  15318  15783   \n",
       "3  10395  10761  ...  14010  14256  14812  15222  15329  15619  16111  16501   \n",
       "4  11450  11794  ...  13950  14442  14682  15311  15881  16609  16910  17392   \n",
       "5  10832  11400  ...  13773  14142  14554  15099  15173  15484  15903  16350   \n",
       "6  11198  11601  ...  14187  14642  14908  15604  15928  16501  17220  17493   \n",
       "7  12451  12899  ...  16597  17114  17436  18098  18393  18778  19191  19721   \n",
       "8  12817  13585  ...  16564  16830  17424  18744  18578  19057  19927  20699   \n",
       "9  11624  12145  ...  14096  14340  14679  15303  15277  15411  15848  16572   \n",
       "\n",
       "    2020   2021  \n",
       "0  16153  16934  \n",
       "1  17382  17935  \n",
       "2  16005  16222  \n",
       "3  16549  17128  \n",
       "4  18004  18376  \n",
       "5  16362  17228  \n",
       "6  17759  18216  \n",
       "7  19586  20380  \n",
       "8  20633  20952  \n",
       "9  16286  17431  \n",
       "\n",
       "[10 rows x 27 columns]"
      ]
     },
     "execution_count": 7,
     "metadata": {},
     "output_type": "execute_result"
    }
   ],
   "source": [
    "# Examine a subset of the GDHI data\n",
    "data_gdhi[:10]"
   ]
  },
  {
   "cell_type": "code",
   "execution_count": 8,
   "metadata": {},
   "outputs": [
    {
     "data": {
      "text/html": [
       "<div>\n",
       "<style scoped>\n",
       "    .dataframe tbody tr th:only-of-type {\n",
       "        vertical-align: middle;\n",
       "    }\n",
       "\n",
       "    .dataframe tbody tr th {\n",
       "        vertical-align: top;\n",
       "    }\n",
       "\n",
       "    .dataframe thead th {\n",
       "        text-align: right;\n",
       "    }\n",
       "</style>\n",
       "<table border=\"1\" class=\"dataframe\">\n",
       "  <thead>\n",
       "    <tr style=\"text-align: right;\">\n",
       "      <th></th>\n",
       "      <th>LA name</th>\n",
       "      <th>LA code</th>\n",
       "      <th>1997</th>\n",
       "      <th>1998</th>\n",
       "      <th>1999</th>\n",
       "      <th>2000</th>\n",
       "      <th>2001</th>\n",
       "      <th>2002</th>\n",
       "      <th>2003</th>\n",
       "      <th>2004</th>\n",
       "      <th>...</th>\n",
       "      <th>2012</th>\n",
       "      <th>2013</th>\n",
       "      <th>2014</th>\n",
       "      <th>2015</th>\n",
       "      <th>2016</th>\n",
       "      <th>2017</th>\n",
       "      <th>2018</th>\n",
       "      <th>2019</th>\n",
       "      <th>2020</th>\n",
       "      <th>2021</th>\n",
       "    </tr>\n",
       "  </thead>\n",
       "  <tbody>\n",
       "    <tr>\n",
       "      <th>373</th>\n",
       "      <td>UK</td>\n",
       "      <td>UK</td>\n",
       "      <td>10592</td>\n",
       "      <td>10812</td>\n",
       "      <td>11294</td>\n",
       "      <td>11880</td>\n",
       "      <td>12343</td>\n",
       "      <td>12633</td>\n",
       "      <td>13022</td>\n",
       "      <td>13548</td>\n",
       "      <td>...</td>\n",
       "      <td>16871</td>\n",
       "      <td>17544</td>\n",
       "      <td>18073</td>\n",
       "      <td>19041</td>\n",
       "      <td>19249</td>\n",
       "      <td>19694</td>\n",
       "      <td>20445</td>\n",
       "      <td>21104</td>\n",
       "      <td>20907</td>\n",
       "      <td>21679</td>\n",
       "    </tr>\n",
       "  </tbody>\n",
       "</table>\n",
       "<p>1 rows × 27 columns</p>\n",
       "</div>"
      ],
      "text/plain": [
       "    LA name LA code   1997   1998   1999   2000   2001   2002   2003   2004  \\\n",
       "373      UK      UK  10592  10812  11294  11880  12343  12633  13022  13548   \n",
       "\n",
       "     ...   2012   2013   2014   2015   2016   2017   2018   2019   2020   2021  \n",
       "373  ...  16871  17544  18073  19041  19249  19694  20445  21104  20907  21679  \n",
       "\n",
       "[1 rows x 27 columns]"
      ]
     },
     "execution_count": 8,
     "metadata": {},
     "output_type": "execute_result"
    }
   ],
   "source": [
    "# Examine the last record of the data (the UK overview)\n",
    "data_gdhi[373:]"
   ]
  },
  {
   "cell_type": "code",
   "execution_count": 9,
   "metadata": {},
   "outputs": [
    {
     "name": "stdout",
     "output_type": "stream",
     "text": [
      "Trim Complete\n"
     ]
    }
   ],
   "source": [
    "# Trim down GDHI data to period 2018 to 2020\n",
    "del(data_gdhi['1997'], data_gdhi['1998'], data_gdhi['1999'], data_gdhi['2000'], data_gdhi['2001'], data_gdhi['2002'], data_gdhi['2003'], data_gdhi['2004']\n",
    "    , data_gdhi['2005'], data_gdhi['2006'], data_gdhi['2007'], data_gdhi['2008'], data_gdhi['2009'], data_gdhi['2010'], data_gdhi['2011'], data_gdhi['2012']\n",
    "    , data_gdhi['2013'], data_gdhi['2014'], data_gdhi['2015'], data_gdhi['2016'], data_gdhi['2017'], data_gdhi['2021'])\n",
    "print(\"Trim Complete\")"
   ]
  },
  {
   "cell_type": "code",
   "execution_count": 10,
   "metadata": {},
   "outputs": [
    {
     "data": {
      "text/html": [
       "<div>\n",
       "<style scoped>\n",
       "    .dataframe tbody tr th:only-of-type {\n",
       "        vertical-align: middle;\n",
       "    }\n",
       "\n",
       "    .dataframe tbody tr th {\n",
       "        vertical-align: top;\n",
       "    }\n",
       "\n",
       "    .dataframe thead th {\n",
       "        text-align: right;\n",
       "    }\n",
       "</style>\n",
       "<table border=\"1\" class=\"dataframe\">\n",
       "  <thead>\n",
       "    <tr style=\"text-align: right;\">\n",
       "      <th></th>\n",
       "      <th>LA name</th>\n",
       "      <th>LA code</th>\n",
       "      <th>2018</th>\n",
       "      <th>2019</th>\n",
       "      <th>2020</th>\n",
       "    </tr>\n",
       "  </thead>\n",
       "  <tbody>\n",
       "    <tr>\n",
       "      <th>373</th>\n",
       "      <td>UK</td>\n",
       "      <td>UK</td>\n",
       "      <td>20445</td>\n",
       "      <td>21104</td>\n",
       "      <td>20907</td>\n",
       "    </tr>\n",
       "  </tbody>\n",
       "</table>\n",
       "</div>"
      ],
      "text/plain": [
       "    LA name LA code   2018   2019   2020\n",
       "373      UK      UK  20445  21104  20907"
      ]
     },
     "execution_count": 10,
     "metadata": {},
     "output_type": "execute_result"
    }
   ],
   "source": [
    "# Check Datasheet has been trimmed correctly\n",
    "data_gdhi[373:]"
   ]
  },
  {
   "attachments": {},
   "cell_type": "markdown",
   "metadata": {},
   "source": [
    "Because record 373 is the average of all the above records, it's inclusion "
   ]
  },
  {
   "cell_type": "code",
   "execution_count": 11,
   "metadata": {},
   "outputs": [
    {
     "data": {
      "text/plain": [
       "<seaborn.axisgrid.FacetGrid at 0x1c0b1e422c0>"
      ]
     },
     "execution_count": 11,
     "metadata": {},
     "output_type": "execute_result"
    },
    {
     "data": {
      "image/png": "[encoded data removed]",
      "text/plain": [
       "<Figure size 500x500 with 1 Axes>"
      ]
     },
     "metadata": {},
     "output_type": "display_data"
    }
   ],
   "source": [
    "#\n",
    "g = sns.catplot(data= data_gdhi, kind= 'box', x= '2018') \n",
    "g.set_xticklabels(rotation=-20)"
   ]
  },
  {
   "cell_type": "code",
   "execution_count": 12,
   "metadata": {},
   "outputs": [
    {
     "data": {
      "text/plain": [
       "<seaborn.axisgrid.FacetGrid at 0x1c0b50603d0>"
      ]
     },
     "execution_count": 12,
     "metadata": {},
     "output_type": "execute_result"
    },
    {
     "data": {
      "image/png": "[encoded data removed]",
      "text/plain": [
       "<Figure size 500x500 with 1 Axes>"
      ]
     },
     "metadata": {},
     "output_type": "display_data"
    }
   ],
   "source": [
    "# \n",
    "g = sns.catplot(data= data_gdhi, kind= 'box', x= '2019')\n",
    "g.set_xticklabels(rotation=0)"
   ]
  },
  {
   "cell_type": "code",
   "execution_count": 13,
   "metadata": {},
   "outputs": [
    {
     "data": {
      "text/plain": [
       "<seaborn.axisgrid.FacetGrid at 0x1c0b2f96fb0>"
      ]
     },
     "execution_count": 13,
     "metadata": {},
     "output_type": "execute_result"
    },
    {
     "data": {
      "image/png": "[encoded data removed]",
      "text/plain": [
       "<Figure size 500x500 with 1 Axes>"
      ]
     },
     "metadata": {},
     "output_type": "display_data"
    }
   ],
   "source": [
    "# \n",
    "g = sns.catplot(data= data_gdhi, kind= 'box', x= '2020')\n",
    "g.set_xticklabels(rotation=0)"
   ]
  },
  {
   "cell_type": "code",
   "execution_count": null,
   "metadata": {},
   "outputs": [],
   "source": []
  }
 ],
 "metadata": {
  "kernelspec": {
   "display_name": "Python 3",
   "language": "python",
   "name": "python3"
  },
  "language_info": {
   "codemirror_mode": {
    "name": "ipython",
    "version": 3
   },
   "file_extension": ".py",
   "mimetype": "text/x-python",
   "name": "python",
   "nbconvert_exporter": "python",
   "pygments_lexer": "ipython3",
   "version": "3.10.4"
  },
  "orig_nbformat": 4
 },
 "nbformat": 4,
 "nbformat_minor": 2
}
