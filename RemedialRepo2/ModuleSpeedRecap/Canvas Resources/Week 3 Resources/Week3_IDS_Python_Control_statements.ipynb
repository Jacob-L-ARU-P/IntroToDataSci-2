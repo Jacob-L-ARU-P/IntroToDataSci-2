{
  "cells": [
    {
      "cell_type": "markdown",
      "metadata": {},
      "source": [
        "# Python Execution Sequence \n",
        "\n",
        " \n",
        "Python code works sequentially. There are ways to get around the sequential execution using conditional statements or loop executions as seen in this lecture. \n",
        "\n"
      ]
    },
    {
      "cell_type": "markdown",
      "metadata": {
        "jupyter": {
          "source_hidden": true
        }
      },
      "source": [
        "## Conditional Statements - if/else/elsif \n",
        "Conditional statements check the conditions to follow different code path.\n",
        "\n",
        "**if < condition > :**\n",
        "\n",
        "    < statement >\n",
        "    \n",
        "**elif < condition > :**\n",
        "\n",
        "    < statement >\n",
        "    \n",
        "**else :**\n",
        "\n",
        "    < statement >"
      ]
    },
    {
      "cell_type": "code",
      "execution_count": null,
      "metadata": {},
      "outputs": [],
      "source": [
        "#simple if condition\n",
        "\n",
        "if 178 < 2e2:\n",
        "    print('First one is greater!')"
      ]
    },
    {
      "cell_type": "code",
      "execution_count": null,
      "metadata": {
        "scrolled": true
      },
      "outputs": [],
      "source": [
        "# if - else condition\n",
        "if 13 > 432:\n",
        "    print('First is greater than second')\n",
        "else:\n",
        "    print('Second is greater than first')"
      ]
    },
    {
      "cell_type": "code",
      "execution_count": null,
      "metadata": {},
      "outputs": [],
      "source": [
        "#if else elif condition.\n",
        "if 1 == 2:\n",
        "    print('first')\n",
        "elif 3 == 3:\n",
        "    print('middle')\n",
        "else:\n",
        "    print('Last')\n"
      ]
    },
    {
      "cell_type": "code",
      "execution_count": null,
      "metadata": {},
      "outputs": [],
      "source": [
        "# Could compare multiple options with \"in\" a list\n",
        "name = \"John\"\n",
        "if name in [\"John\", \"Rick\"]:\n",
        "    print(\"Your name is either John or Rick.\")"
      ]
    },
    {
      "cell_type": "code",
      "execution_count": null,
      "metadata": {
        "scrolled": true
      },
      "outputs": [],
      "source": [
        "# 'is' operator compares instance instead of value\n",
        "x = [1,2,3]\n",
        "y = [1,2,3]\n",
        "print(x == y) # Prints out True\n",
        "if(x is y): # Prints out False\n",
        "    print(\"Same Instance\")\n",
        "else:\n",
        "    print(\"Different Instances\")\n",
        "    "
      ]
    },
    {
      "cell_type": "markdown",
      "metadata": {},
      "source": [
        "<html> <h3 style=\"font-style:italic; color:#FF0000;\"> Try Out: Change the variables in the first section, so that each if statement resolves as True.</h3> </html>"
      ]
    },
    {
      "cell_type": "code",
      "execution_count": 11,
      "metadata": {},
      "outputs": [
        {
          "name": "stdout",
          "output_type": "stream",
          "text": [
            "1\n"
          ]
        }
      ],
      "source": [
        "# change this code\n",
        "number = 20\n",
        "second_number = 10\n",
        "first_array = []\n",
        "second_array = [1,2,3]\n",
        "\n",
        "if number > 15:\n",
        "    print(\"1\")\n",
        "\n",
        "#if first_array:\n",
        "#    print(\"2\")\n",
        "\n",
        "#if len(second_array) == 2:\n",
        "#    print(\"3\")\n",
        "\n",
        "#if len(first_array) + len(second_array) == 5:\n",
        "#    print(\"4\")\n",
        "\n",
        "#if first_array and first_array[0] == 1:\n",
        "#    print(\"5\")\n",
        "\n",
        "#if not second_number:\n",
        "#    print(\"6\")"
      ]
    },
    {
      "cell_type": "code",
      "execution_count": 10,
      "metadata": {},
      "outputs": [
        {
          "name": "stdout",
          "output_type": "stream",
          "text": [
            "Hello World\n"
          ]
        }
      ],
      "source": [
        "print('Hello World')"
      ]
    },
    {
      "cell_type": "markdown",
      "metadata": {},
      "source": [
        "## Loops or Iterations\n",
        "\n",
        "Loops are an integral part of any programming language. Python loops are simple and easily comprehesible. Loop operators like the for and while loops are important to iterate through a bug set of data on which same repeated operations have to be performed. \n",
        "\n",
        "### for loop\n",
        "\n",
        "For loop is when there is a starting and ending points. \n",
        "\n",
        "### while loop\n",
        "\n",
        "while loop goes on till the condition to run the loop is satisfied,\n",
        "\n",
        "### Continue \n",
        "\n",
        "Useful to skip certain iterations of the loop\n",
        "\n",
        "### Break\n",
        "\n",
        "operator to break a loop\n",
        "\n",
        "### range () \n",
        "\n",
        "Creates a range of numbers...\n",
        "\n",
        "***range(start, stop, step)***\n",
        "\n",
        "All three parameters are optional. Start included and stop excluded."
      ]
    },
    {
      "cell_type": "code",
      "execution_count": null,
      "metadata": {
        "scrolled": true
      },
      "outputs": [],
      "source": [
        "# For loop\n",
        "icecream = [12,42,54,23]\n",
        "for jelly in icecream:\n",
        "    print(jelly+jelly)"
      ]
    },
    {
      "cell_type": "code",
      "execution_count": null,
      "metadata": {},
      "outputs": [],
      "source": [
        "primes = [2, 3, 5, 7]\n",
        "for prime in primes:\n",
        "    print(prime)"
      ]
    },
    {
      "cell_type": "code",
      "execution_count": null,
      "metadata": {},
      "outputs": [],
      "source": [
        "# Show only the content of the iterator element instead o a list.\n",
        "for i in range(4):\n",
        "    print(i)"
      ]
    },
    {
      "cell_type": "code",
      "execution_count": null,
      "metadata": {},
      "outputs": [],
      "source": [
        "# range() is an iterator you can't print the list directly\n",
        "print(range(4))"
      ]
    },
    {
      "cell_type": "code",
      "execution_count": null,
      "metadata": {},
      "outputs": [],
      "source": [
        "\n",
        "# Prints out 3,4,5\n",
        "for x in range(3, 6):\n",
        "    print(x)\n"
      ]
    },
    {
      "cell_type": "code",
      "execution_count": null,
      "metadata": {},
      "outputs": [],
      "source": [
        "\n",
        "# Prints out 3,5,7\n",
        "for x in range(3, 8, 2):\n",
        "    print(x)"
      ]
    },
    {
      "cell_type": "code",
      "execution_count": null,
      "metadata": {},
      "outputs": [],
      "source": [
        "# while loop\n",
        "i = 1\n",
        "while i < 5:\n",
        "    print('i is: {}'.format(i))\n",
        "    i = i+1"
      ]
    },
    {
      "cell_type": "code",
      "execution_count": null,
      "metadata": {},
      "outputs": [],
      "source": [
        "# while loop to print out 0,1,2,3,4\n",
        "\n",
        "count = 0\n",
        "while count < 5:\n",
        "    print(count)\n",
        "    count += 1  # This is the same as count = count + 1"
      ]
    },
    {
      "cell_type": "code",
      "execution_count": null,
      "metadata": {},
      "outputs": [],
      "source": [
        "# break condition to print out 0,1,2,3,4\n",
        "\n",
        "count = 0\n",
        "while True:\n",
        "    print(count)\n",
        "    count += 1\n",
        "    if count >= 5:\n",
        "        break\n",
        "\n"
      ]
    },
    {
      "cell_type": "code",
      "execution_count": null,
      "metadata": {},
      "outputs": [],
      "source": [
        "# continue skips even numbers prints out only odd numbers - 1,3,5,7,9\n",
        "for x in range(10):\n",
        "    # Check if x is even\n",
        "    if x % 2 == 0:\n",
        "        continue\n",
        "    print(x)"
      ]
    },
    {
      "cell_type": "code",
      "execution_count": null,
      "metadata": {},
      "outputs": [],
      "source": [
        "# Special else case with while and for loops... \n",
        "# Prints out 0,1,2,3,4 and then it prints \"count value reached 5\"\n",
        "\n",
        "count=0\n",
        "while(count<5):\n",
        "    print(count)\n",
        "    count +=1\n",
        "else:\n",
        "    print(\"count value reached %d\" %(count))\n",
        "\n"
      ]
    },
    {
      "cell_type": "code",
      "execution_count": null,
      "metadata": {
        "scrolled": true
      },
      "outputs": [],
      "source": [
        "# Prints out 1,2,3,4\n",
        "for i in range(1, 10):\n",
        "    if(i%5==0):\n",
        "        break\n",
        "    print(i)\n",
        "else:\n",
        "    print(\"this is not printed because for loop is terminated \\\n",
        "          because of break but not due to fail in condition\")"
      ]
    },
    {
      "cell_type": "code",
      "execution_count": null,
      "metadata": {},
      "outputs": [],
      "source": [
        "# DO NOT RUN THIS CODE!!!! \n",
        "while True:\n",
        "    print(\"I'm stuck in an infinite loop!\")"
      ]
    },
    {
      "cell_type": "markdown",
      "metadata": {},
      "source": [
        "A quick note: If you **did** run the above cell, click on the Kernel menu above to restart the kernel!"
      ]
    },
    {
      "cell_type": "code",
      "execution_count": null,
      "metadata": {},
      "outputs": [],
      "source": []
    },
    {
      "cell_type": "markdown",
      "metadata": {},
      "source": [
        "<html> <h3 style=\"font-style:italic; color:#FF0000;\"> Try Out: Loop through and print out all even numbers from the numbers list in the same order they are received. Don't print any numbers that come after 237 in the sequence.</h3> </html>"
      ]
    },
    {
      "cell_type": "code",
      "execution_count": null,
      "metadata": {},
      "outputs": [],
      "source": [
        "numbers = [\n",
        "    951, 402, 984, 651, 360, 69, 408, 319, 601, 485, 980, 507, 725, 547, 544,\n",
        "    615, 83, 165, 141, 501, 263, 617, 865, 575, 219, 390, 984, 592, 236, 105, \n",
        "    942, 941, 386, 462, 47, 418, 907, 344, 236, 375, 823, 566, 597, 978, 328, \n",
        "    615, 953, 345, 399, 162, 758, 219, 918, 237, 412, 566, 826, 248, 866, 950, \n",
        "    626, 949, 687, 217, 815, 67, 104, 58, 512, 24, 892, 894, 767, 553, 81, 379, \n",
        "    843, 831, 445, 742, 717, 958, 609, 842, 451, 688, 753, 854, 685, 93, 857, \n",
        "    440, 380, 126, 721, 328, 753, 470, 743, 527\n",
        "]\n",
        "\n",
        "# your code goes here\n"
      ]
    },
    {
      "cell_type": "markdown",
      "metadata": {},
      "source": [
        "<html> <h3 style=\"font-style:italic; color:#FF0000;\"> Try Out: Loop through and print out all even numbers from the numbers list in the same order they are received. Don't print any numbers that come after 237 in the sequence.Try using the \"while\" loop this time if you have used \"for\" loop before or viceversa.</h3> </html>"
      ]
    },
    {
      "cell_type": "code",
      "execution_count": null,
      "metadata": {},
      "outputs": [],
      "source": [
        "numbers = [\n",
        "    951, 402, 984, 651, 360, 69, 408, 319, 601, 485, 980, 507, 725, 547, 544,\n",
        "    615, 83, 165, 141, 501, 263, 617, 865, 575, 219, 390, 984, 592, 236, 105, \n",
        "    942, 941, 386, 462, 47, 418, 907, 344, 236, 375, 823, 566, 597, 978, 328, \n",
        "    615, 953, 345, 399, 162, 758, 219, 918, 237, 412, 566, 826, 248, 866, 950, \n",
        "    626, 949, 687, 217, 815, 67, 104, 58, 512, 24, 892, 894, 767, 553, 81, 379, \n",
        "    843, 831, 445, 742, 717, 958, 609, 842, 451, 688, 753, 854, 685, 93, 857, \n",
        "    440, 380, 126, 721, 328, 753, 470, 743, 527\n",
        "]\n",
        "\n",
        "# your code goes here\n",
        "\n"
      ]
    },
    {
      "cell_type": "markdown",
      "metadata": {},
      "source": [
        "<html> <h3 style=\"font-style:italic; color:#FF0000;\"> Try out: Guessing Game Challenge \n",
        "    \n",
        "\n",
        "The Challenge:\n",
        "\n",
        "Write a program that picks a random integer from 1 to 100, and has players guess the number. The rules are:\n",
        "\n",
        "\n",
        "\n",
        "If a player's guess is less than 1 or greater than 100, say \"OUT OF BOUNDS\" \n",
        "\n",
        "On a player's first turn, if their guess is within 10 of the number, return \"WARM!\"\n",
        "\n",
        "further than 10 away from the number, return \"COLD!\"\n",
        "\n",
        "\n",
        "On all subsequent turns, if a guess is closer to the number than the previous guess return \"WARMER!\"\n",
        "\n",
        "farther from the number than the previous guess, return \"COLDER!\"\n",
        "\n",
        "When the player's guess equals the number, tell them they've guessed correctly and how many guesses it took!</h3> </html>\n",
        "\n",
        "Hint: Let's use while loops to create a guessing game."
      ]
    },
    {
      "cell_type": "code",
      "execution_count": null,
      "metadata": {},
      "outputs": [],
      "source": []
    }
  ],
  "metadata": {
    "kernelspec": {
      "display_name": "Python 3",
      "language": "python",
      "name": "python3"
    },
    "language_info": {
      "codemirror_mode": {
        "name": "ipython",
        "version": 3
      },
      "file_extension": ".py",
      "mimetype": "text/x-python",
      "name": "python",
      "nbconvert_exporter": "python",
      "pygments_lexer": "ipython3",
      "version": "3.10.4"
    }
  },
  "nbformat": 4,
  "nbformat_minor": 4
}
