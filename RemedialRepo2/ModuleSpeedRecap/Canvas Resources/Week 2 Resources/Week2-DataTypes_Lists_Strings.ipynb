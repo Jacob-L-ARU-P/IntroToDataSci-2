{
  "metadata": {
    "kernelspec": {
      "name": "python",
      "display_name": "Pyolite",
      "language": "python"
    },
    "language_info": {
      "codemirror_mode": {
        "name": "python",
        "version": 3
      },
      "file_extension": ".py",
      "mimetype": "text/x-python",
      "name": "python",
      "nbconvert_exporter": "python",
      "pygments_lexer": "ipython3",
      "version": "3.8"
    }
  },
  "nbformat_minor": 4,
  "nbformat": 4,
  "cells": [
    {
      "cell_type": "markdown",
      "source": "# Python Lists\n\nThere are other complex data types in python that could be very useful in storing a group of items useful for  different applications. The list datatype is an ordered sequence of values delimited within square brackets. There could be different datatypes combined in a single list and multiple levels within a list. The values in a list can be accessed through its index list_name[list_index].  List can also be list of lists representing 2-d or 3-d or n-d lists.\n\nList datatype has numerous in-build methods that can be used to work on the datatype. e.g. len, append, etc.\n\n\n- append() is used to append extra items to a list. The concatentation command above could be more simplified by using the += operator.\n\n- len() function will return the number of items in a list.\n\n- pop() method to pop out an element from the list.",
      "metadata": {}
    },
    {
      "cell_type": "code",
      "source": "# simple numeric list\n[100,200,300]",
      "metadata": {},
      "execution_count": 1,
      "outputs": [
        {
          "execution_count": 1,
          "output_type": "execute_result",
          "data": {
            "text/plain": [
              "[100, 200, 300]"
            ]
          },
          "metadata": {}
        }
      ]
    },
    {
      "cell_type": "code",
      "source": "# A mixed list\n['test',100,[1,2]]",
      "metadata": {},
      "execution_count": 2,
      "outputs": [
        {
          "execution_count": 2,
          "output_type": "execute_result",
          "data": {
            "text/plain": [
              "['test', 100, [1, 2]]"
            ]
          },
          "metadata": {}
        }
      ]
    },
    {
      "cell_type": "code",
      "source": "# A list variable\nmy_list = ['abc','def','ghi']\nmy_list",
      "metadata": {},
      "execution_count": 3,
      "outputs": [
        {
          "execution_count": 3,
          "output_type": "execute_result",
          "data": {
            "text/plain": [
              "['abc', 'def', 'ghi']"
            ]
          },
          "metadata": {}
        }
      ]
    },
    {
      "cell_type": "code",
      "source": "# Add new data to list using append() method\nmy_list.append('test')",
      "metadata": {},
      "execution_count": 4,
      "outputs": []
    },
    {
      "cell_type": "code",
      "source": "# Show the complete list\nmy_list",
      "metadata": {},
      "execution_count": 5,
      "outputs": [
        {
          "execution_count": 5,
          "output_type": "execute_result",
          "data": {
            "text/plain": [
              "['abc', 'def', 'ghi', 'test']"
            ]
          },
          "metadata": {}
        }
      ]
    },
    {
      "cell_type": "code",
      "source": "# Print the first element of the list\nmy_list[0]",
      "metadata": {},
      "execution_count": 6,
      "outputs": [
        {
          "execution_count": 6,
          "output_type": "execute_result",
          "data": {
            "text/plain": [
              "'abc'"
            ]
          },
          "metadata": {}
        }
      ]
    },
    {
      "cell_type": "code",
      "source": "# Print the second element of the list.\nmy_list[1]",
      "metadata": {},
      "execution_count": 7,
      "outputs": [
        {
          "execution_count": 7,
          "output_type": "execute_result",
          "data": {
            "text/plain": [
              "'def'"
            ]
          },
          "metadata": {}
        }
      ]
    },
    {
      "cell_type": "code",
      "source": "# Select a portion of the list starting from second element\nmy_list[1:]",
      "metadata": {},
      "execution_count": 8,
      "outputs": [
        {
          "execution_count": 8,
          "output_type": "execute_result",
          "data": {
            "text/plain": [
              "['def', 'ghi', 'test']"
            ]
          },
          "metadata": {}
        }
      ]
    },
    {
      "cell_type": "code",
      "source": "# Select a portion of the list from beginning to third element of the list.\nmy_list[:2]",
      "metadata": {},
      "execution_count": 10,
      "outputs": [
        {
          "execution_count": 10,
          "output_type": "execute_result",
          "data": {
            "text/plain": [
              "['abc', 'def']"
            ]
          },
          "metadata": {}
        }
      ]
    },
    {
      "cell_type": "code",
      "source": "# Change the first element of the list.\nmy_list[0] = 'NEW'",
      "metadata": {},
      "execution_count": 11,
      "outputs": []
    },
    {
      "cell_type": "code",
      "source": "my_list",
      "metadata": {},
      "execution_count": 12,
      "outputs": [
        {
          "execution_count": 12,
          "output_type": "execute_result",
          "data": {
            "text/plain": [
              "['NEW', 'def', 'ghi', 'test']"
            ]
          },
          "metadata": {}
        }
      ]
    },
    {
      "cell_type": "code",
      "source": "# A nested list\nnested_list = [1,2,3,[4,5,['test']]]\nnested_list",
      "metadata": {},
      "execution_count": 13,
      "outputs": [
        {
          "execution_count": 13,
          "output_type": "execute_result",
          "data": {
            "text/plain": [
              "[1, 2, 3, [4, 5, ['test']]]"
            ]
          },
          "metadata": {}
        }
      ]
    },
    {
      "cell_type": "code",
      "source": "# Select fourth element of a nested list.\nnested_list[3]",
      "metadata": {},
      "execution_count": 14,
      "outputs": [
        {
          "execution_count": 14,
          "output_type": "execute_result",
          "data": {
            "text/plain": [
              "[4, 5, ['test']]"
            ]
          },
          "metadata": {}
        }
      ]
    },
    {
      "cell_type": "code",
      "source": "# Select the third element of the fourth element of the nested list.\nnested_list[3][2]",
      "metadata": {},
      "execution_count": 15,
      "outputs": [
        {
          "execution_count": 15,
          "output_type": "execute_result",
          "data": {
            "text/plain": [
              "['test']"
            ]
          },
          "metadata": {}
        }
      ]
    },
    {
      "cell_type": "code",
      "source": "# Show only the content of the element above instead of as a list.\nnested_list[3][2][0]",
      "metadata": {
        "scrolled": true
      },
      "execution_count": 16,
      "outputs": [
        {
          "execution_count": 16,
          "output_type": "execute_result",
          "data": {
            "text/plain": [
              "'test'"
            ]
          },
          "metadata": {}
        }
      ]
    },
    {
      "cell_type": "markdown",
      "source": "### List Methods\n\nappend() - concates objects to the end of the list.\n\nextend() - concates values from the iterator into the list\n\n\nRemove values from the list using three different methods\n\npop()  or pop(index)  - Returns a value from the list \n\ndelete() - deletes a list or specific elements of list by specifying the list[index]\n\nremove(value) - removes the first occurance of a particular value in the list.",
      "metadata": {}
    },
    {
      "cell_type": "code",
      "source": "# Use extend and append to see how the two functions differ.\nmylist = ['a','b','c']\nmylist",
      "metadata": {},
      "execution_count": 10,
      "outputs": [
        {
          "execution_count": 10,
          "output_type": "execute_result",
          "data": {
            "text/plain": [
              "['a', 'b', 'c']"
            ]
          },
          "metadata": {}
        }
      ]
    },
    {
      "cell_type": "code",
      "source": "#Append values to this list\nmylist.append(1)\nmylist",
      "metadata": {},
      "execution_count": 11,
      "outputs": [
        {
          "execution_count": 11,
          "output_type": "execute_result",
          "data": {
            "text/plain": [
              "['a', 'b', 'c', 1]"
            ]
          },
          "metadata": {}
        }
      ]
    },
    {
      "cell_type": "code",
      "source": "#Append list of values to this list  - did it concatenate numbers or just list object as such.\nmylist.append([2,3])\nmylist",
      "metadata": {},
      "execution_count": 12,
      "outputs": [
        {
          "execution_count": 12,
          "output_type": "execute_result",
          "data": {
            "text/plain": [
              "['a', 'b', 'c', 1, [2, 3]]"
            ]
          },
          "metadata": {}
        }
      ]
    },
    {
      "cell_type": "code",
      "source": "#Did you want to concatenate individual values or whole list? Need to use the extend method instead!\nmylist = ['a', 'b', 'c', 1]\nmylist.extend([2,3])\nmylist",
      "metadata": {},
      "execution_count": 16,
      "outputs": [
        {
          "execution_count": 16,
          "output_type": "execute_result",
          "data": {
            "text/plain": [
              "['a', 'b', 'c', 1, 2, 3]"
            ]
          },
          "metadata": {}
        }
      ]
    },
    {
      "cell_type": "code",
      "source": "# Pop a value from the list\nmylist.pop()",
      "metadata": {},
      "execution_count": 17,
      "outputs": [
        {
          "execution_count": 17,
          "output_type": "execute_result",
          "data": {
            "text/plain": [
              "3"
            ]
          },
          "metadata": {}
        }
      ]
    },
    {
      "cell_type": "code",
      "source": "mylist",
      "metadata": {},
      "execution_count": 18,
      "outputs": [
        {
          "execution_count": 18,
          "output_type": "execute_result",
          "data": {
            "text/plain": [
              "['a', 'b', 'c', 1, 2]"
            ]
          },
          "metadata": {}
        }
      ]
    },
    {
      "cell_type": "code",
      "source": "# pop a specific value fromn the list! like the element at index 2\nmylist.pop(2)",
      "metadata": {},
      "execution_count": 19,
      "outputs": [
        {
          "execution_count": 19,
          "output_type": "execute_result",
          "data": {
            "text/plain": [
              "'c'"
            ]
          },
          "metadata": {}
        }
      ]
    },
    {
      "cell_type": "code",
      "source": "mylist",
      "metadata": {},
      "execution_count": 20,
      "outputs": [
        {
          "execution_count": 20,
          "output_type": "execute_result",
          "data": {
            "text/plain": [
              "['a', 'b', 1, 2]"
            ]
          },
          "metadata": {}
        }
      ]
    },
    {
      "cell_type": "code",
      "source": "# Delete the list\ndel(mylist)",
      "metadata": {},
      "execution_count": 21,
      "outputs": []
    },
    {
      "cell_type": "code",
      "source": "mylist",
      "metadata": {},
      "execution_count": 22,
      "outputs": [
        {
          "ename": "NameError",
          "evalue": "name 'mylist' is not defined",
          "output_type": "error",
          "traceback": [
            "\u001b[0;31m---------------------------------------------------------------------------\u001b[0m",
            "\u001b[0;31mNameError\u001b[0m                                 Traceback (most recent call last)",
            "\u001b[0;32m<ipython-input-22-787410b875dd>\u001b[0m in \u001b[0;36m<module>\u001b[0;34m\u001b[0m\n\u001b[0;32m----> 1\u001b[0;31m \u001b[0mmylist\u001b[0m\u001b[0;34m\u001b[0m\u001b[0;34m\u001b[0m\u001b[0m\n\u001b[0m",
            "\u001b[0;31mNameError\u001b[0m: name 'mylist' is not defined"
          ]
        }
      ]
    },
    {
      "cell_type": "code",
      "source": "# Delete a particular element from the list using index\nmylist = ['a', 'b', 'c']\ndel(mylist[1])",
      "metadata": {},
      "execution_count": 23,
      "outputs": []
    },
    {
      "cell_type": "code",
      "source": "mylist",
      "metadata": {},
      "execution_count": 24,
      "outputs": [
        {
          "execution_count": 24,
          "output_type": "execute_result",
          "data": {
            "text/plain": [
              "['a', 'c']"
            ]
          },
          "metadata": {}
        }
      ]
    },
    {
      "cell_type": "code",
      "source": "# Remove a particular element in the list by its value. .e.g. Renmove 'b'\nmylist.remove('c')",
      "metadata": {},
      "execution_count": 25,
      "outputs": []
    },
    {
      "cell_type": "code",
      "source": "mylist",
      "metadata": {},
      "execution_count": 26,
      "outputs": [
        {
          "execution_count": 26,
          "output_type": "execute_result",
          "data": {
            "text/plain": [
              "['a']"
            ]
          },
          "metadata": {}
        }
      ]
    },
    {
      "cell_type": "code",
      "source": "",
      "metadata": {},
      "execution_count": null,
      "outputs": []
    },
    {
      "cell_type": "markdown",
      "source": "<html> <h3 style=\"font-style:italic; color:#FF0000;\"> Try Out: Create a list with all the data types you are familiar with till now including lists.</h3> </html>",
      "metadata": {}
    },
    {
      "cell_type": "code",
      "source": "",
      "metadata": {},
      "execution_count": null,
      "outputs": []
    },
    {
      "cell_type": "markdown",
      "source": "<html> <h3 style=\"font-style:italic; color:#FF0000;\"> Try Out: Create a 5X5 matrix using numbers 1 to 25 with nested lists. Access the middle elements in the matrix. Try all the methods learned till now to manipulate this list</h3> </html>",
      "metadata": {}
    },
    {
      "cell_type": "code",
      "source": "",
      "metadata": {},
      "execution_count": null,
      "outputs": []
    },
    {
      "cell_type": "markdown",
      "source": "<html> <h3 style=\"font-style:italic; color:#FF0000;\"> Try Out: Given this nested list grab the word \"hello\". Be prepared, this will be annoying/tricky.</h3> </html>",
      "metadata": {}
    },
    {
      "cell_type": "code",
      "source": "d = ['k1',[1,2,3,['tricky',['oh','man','inception',['target',[1,2,3,'hello']]]]]]",
      "metadata": {},
      "execution_count": 19,
      "outputs": []
    },
    {
      "cell_type": "code",
      "source": "",
      "metadata": {
        "scrolled": true
      },
      "execution_count": 22,
      "outputs": [
        {
          "execution_count": 22,
          "output_type": "execute_result",
          "data": {
            "text/plain": [
              "'hello'"
            ]
          },
          "metadata": {}
        }
      ]
    },
    {
      "cell_type": "markdown",
      "source": "# Strings\n\nStrings are an ordered sequence of characters or numbers delimited by single or double quotation marks. It is possible to get a character from a string by using string_name[index].\n\n\n## String and lists common methods\n\nBoth strings and lists have some features in common as the len() function can be used to find the number of characters in a string or the number of items in a list. You will not be surprised to know that you can get individual characters from a string using the index just like for lists.\n\n\n### Slicing lists  by using list_name[start:end]\n\n\nWe can get specific characters from a list with **slice** operation for parts of lists:\n```\nlist_name[  start   : end      ]\n          inclusive : exclusive\n```\n* Remember Python indexes start at zero.\n* Remember the `end` index is exclusive - so the slice will not include that element, ending on the one before\n* If you leave out `start` and/or `end` the slice will be from the start of the list and/or to the end of the list.\n\n### Advanced slicing with increment list_name[start:end:increment]\nBy default a slice will include all elements between the indices start and the end-1. If you specify an increment, only the specific increments of the list will be selected. e.g. increment of two will select, every second element.\n\n\n- Reversing a list (or string) can be done by using an increment of minus -1\n\n- Replacing list elements can be by list_name[index] = new_value\n\n- Deleting list elements by `del(list_name[index])`\n\n- Python strings are immutable. **cannot** use `del()` on strings - once defined they cannot be altered.\n\nAlthough lists and strings are similar note that one cannot reassign specific string characters \nin the same way as you can lists.\nIf we want to perform this kind of manipulation on a string we can convert to a list, manipulate it and convert it back.",
      "metadata": {}
    },
    {
      "cell_type": "code",
      "source": "mystr = \"This is a python string\"\n# Get a value at index 3\nmystr[3]",
      "metadata": {},
      "execution_count": 20,
      "outputs": [
        {
          "execution_count": 20,
          "output_type": "execute_result",
          "data": {
            "text/plain": [
              "'s'"
            ]
          },
          "metadata": {}
        }
      ]
    },
    {
      "cell_type": "code",
      "source": "#Get a slice of the string with \"python\"\nmystr[10:16]",
      "metadata": {},
      "execution_count": 21,
      "outputs": [
        {
          "execution_count": 21,
          "output_type": "execute_result",
          "data": {
            "text/plain": [
              "'python'"
            ]
          },
          "metadata": {}
        }
      ]
    },
    {
      "cell_type": "code",
      "source": "#Get a slice of the string with \"python\"\nmystr[0::2]",
      "metadata": {},
      "execution_count": 22,
      "outputs": [
        {
          "execution_count": 22,
          "output_type": "execute_result",
          "data": {
            "text/plain": [
              "'Ti sapto tig'"
            ]
          },
          "metadata": {}
        }
      ]
    },
    {
      "cell_type": "code",
      "source": "#Get the last letter of the string \nmystr[-1]",
      "metadata": {},
      "execution_count": 23,
      "outputs": [
        {
          "execution_count": 23,
          "output_type": "execute_result",
          "data": {
            "text/plain": [
              "'g'"
            ]
          },
          "metadata": {}
        }
      ]
    },
    {
      "cell_type": "code",
      "source": "#Reverse the string \nmystr[::-1]",
      "metadata": {},
      "execution_count": 24,
      "outputs": [
        {
          "execution_count": 24,
          "output_type": "execute_result",
          "data": {
            "text/plain": [
              "'gnirts nohtyp a si sihT'"
            ]
          },
          "metadata": {}
        }
      ]
    },
    {
      "cell_type": "code",
      "source": "#Reverse the string \nmystr[-1:-5:-1]",
      "metadata": {
        "scrolled": true
      },
      "execution_count": 25,
      "outputs": [
        {
          "execution_count": 25,
          "output_type": "execute_result",
          "data": {
            "text/plain": [
              "'gnir'"
            ]
          },
          "metadata": {}
        }
      ]
    },
    {
      "cell_type": "markdown",
      "source": "<html><h3 style=\"font-style:italic; color:#FF0000;\"> Try Out: Print every third character in the string.</h3> </html>",
      "metadata": {}
    },
    {
      "cell_type": "code",
      "source": "",
      "metadata": {},
      "execution_count": null,
      "outputs": []
    },
    {
      "cell_type": "markdown",
      "source": "<html><h3 style=\"font-style:italic; color:#FF0000;\"> Try Out: Reverse only the word python in the string.</h3> </html>",
      "metadata": {}
    },
    {
      "cell_type": "code",
      "source": "",
      "metadata": {},
      "execution_count": null,
      "outputs": []
    },
    {
      "cell_type": "markdown",
      "source": "<html><h3 style=\"font-style:italic; color:#FF0000;\"> Try Out: Reverse every word in the string.</h3> </html>",
      "metadata": {}
    },
    {
      "cell_type": "code",
      "source": "",
      "metadata": {},
      "execution_count": null,
      "outputs": []
    }
  ]
}